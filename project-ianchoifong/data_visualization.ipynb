{
 "cells": [
  {
   "cell_type": "code",
   "execution_count": 25,
   "metadata": {},
   "outputs": [],
   "source": [
    "import pandas as pd\n",
    "import numpy as np\n",
    "from geopy.geocoders import Nominatim\n"
   ]
  },
  {
   "cell_type": "code",
   "execution_count": 2,
   "metadata": {},
   "outputs": [],
   "source": [
    "pca_df = pd.read_csv(\"/Users/youngbeomcho/Desktop/Young Beom Cho/UST/22-23 Spring/COMP 4651/Project/Data/data_with_pca.csv\")\n",
    "origin_df = pd.read_csv(\"/Users/youngbeomcho/Desktop/Young Beom Cho/UST/22-23 Spring/COMP 4651/Project/Data/cities_temp.csv\")"
   ]
  },
  {
   "cell_type": "code",
   "execution_count": 3,
   "metadata": {},
   "outputs": [
    {
     "data": {
      "text/html": [
       "<div>\n",
       "<style scoped>\n",
       "    .dataframe tbody tr th:only-of-type {\n",
       "        vertical-align: middle;\n",
       "    }\n",
       "\n",
       "    .dataframe tbody tr th {\n",
       "        vertical-align: top;\n",
       "    }\n",
       "\n",
       "    .dataframe thead th {\n",
       "        text-align: right;\n",
       "    }\n",
       "</style>\n",
       "<table border=\"1\" class=\"dataframe\">\n",
       "  <thead>\n",
       "    <tr style=\"text-align: right;\">\n",
       "      <th></th>\n",
       "      <th>YEAR</th>\n",
       "      <th>DOY</th>\n",
       "      <th>T10M</th>\n",
       "      <th>CLOUD_AMT</th>\n",
       "      <th>QV10M</th>\n",
       "      <th>PW</th>\n",
       "      <th>PS</th>\n",
       "      <th>GLOBAL_ILLUMINANCE</th>\n",
       "      <th>WS10M</th>\n",
       "      <th>EVLAND</th>\n",
       "      <th>latitude</th>\n",
       "      <th>longitude</th>\n",
       "      <th>PCA1</th>\n",
       "      <th>PCA2</th>\n",
       "      <th>PCA3</th>\n",
       "    </tr>\n",
       "  </thead>\n",
       "  <tbody>\n",
       "    <tr>\n",
       "      <th>0</th>\n",
       "      <td>1981</td>\n",
       "      <td>1</td>\n",
       "      <td>4.82</td>\n",
       "      <td>61.397109</td>\n",
       "      <td>3.54</td>\n",
       "      <td>2.429962</td>\n",
       "      <td>101.68</td>\n",
       "      <td>34868.508157</td>\n",
       "      <td>13.59</td>\n",
       "      <td>29.29</td>\n",
       "      <td>52.373080</td>\n",
       "      <td>4.892453</td>\n",
       "      <td>34868.418341</td>\n",
       "      <td>-98.831604</td>\n",
       "      <td>8.619715</td>\n",
       "    </tr>\n",
       "    <tr>\n",
       "      <th>1</th>\n",
       "      <td>1981</td>\n",
       "      <td>1</td>\n",
       "      <td>8.85</td>\n",
       "      <td>61.397109</td>\n",
       "      <td>4.52</td>\n",
       "      <td>2.429962</td>\n",
       "      <td>100.08</td>\n",
       "      <td>34868.508157</td>\n",
       "      <td>2.06</td>\n",
       "      <td>7.65</td>\n",
       "      <td>37.983941</td>\n",
       "      <td>23.728305</td>\n",
       "      <td>34868.410014</td>\n",
       "      <td>-93.518182</td>\n",
       "      <td>29.145658</td>\n",
       "    </tr>\n",
       "    <tr>\n",
       "      <th>2</th>\n",
       "      <td>1981</td>\n",
       "      <td>1</td>\n",
       "      <td>24.87</td>\n",
       "      <td>61.397109</td>\n",
       "      <td>11.47</td>\n",
       "      <td>2.429962</td>\n",
       "      <td>101.05</td>\n",
       "      <td>34868.508157</td>\n",
       "      <td>2.59</td>\n",
       "      <td>27.50</td>\n",
       "      <td>13.752494</td>\n",
       "      <td>100.493509</td>\n",
       "      <td>34868.419052</td>\n",
       "      <td>-98.919951</td>\n",
       "      <td>9.263003</td>\n",
       "    </tr>\n",
       "    <tr>\n",
       "      <th>3</th>\n",
       "      <td>1981</td>\n",
       "      <td>1</td>\n",
       "      <td>8.37</td>\n",
       "      <td>61.397109</td>\n",
       "      <td>3.85</td>\n",
       "      <td>2.429962</td>\n",
       "      <td>99.36</td>\n",
       "      <td>34868.508157</td>\n",
       "      <td>3.42</td>\n",
       "      <td>3.94</td>\n",
       "      <td>41.382894</td>\n",
       "      <td>2.177432</td>\n",
       "      <td>34868.408404</td>\n",
       "      <td>-92.558832</td>\n",
       "      <td>32.821408</td>\n",
       "    </tr>\n",
       "    <tr>\n",
       "      <th>4</th>\n",
       "      <td>1981</td>\n",
       "      <td>1</td>\n",
       "      <td>-8.01</td>\n",
       "      <td>61.397109</td>\n",
       "      <td>0.67</td>\n",
       "      <td>2.429962</td>\n",
       "      <td>100.05</td>\n",
       "      <td>34868.508157</td>\n",
       "      <td>7.11</td>\n",
       "      <td>3.65</td>\n",
       "      <td>39.906217</td>\n",
       "      <td>116.391276</td>\n",
       "      <td>34868.407691</td>\n",
       "      <td>-92.263940</td>\n",
       "      <td>33.507067</td>\n",
       "    </tr>\n",
       "  </tbody>\n",
       "</table>\n",
       "</div>"
      ],
      "text/plain": [
       "   YEAR  DOY   T10M  CLOUD_AMT  QV10M        PW      PS  GLOBAL_ILLUMINANCE  \\\n",
       "0  1981    1   4.82  61.397109   3.54  2.429962  101.68        34868.508157   \n",
       "1  1981    1   8.85  61.397109   4.52  2.429962  100.08        34868.508157   \n",
       "2  1981    1  24.87  61.397109  11.47  2.429962  101.05        34868.508157   \n",
       "3  1981    1   8.37  61.397109   3.85  2.429962   99.36        34868.508157   \n",
       "4  1981    1  -8.01  61.397109   0.67  2.429962  100.05        34868.508157   \n",
       "\n",
       "   WS10M  EVLAND   latitude   longitude          PCA1       PCA2       PCA3  \n",
       "0  13.59   29.29  52.373080    4.892453  34868.418341 -98.831604   8.619715  \n",
       "1   2.06    7.65  37.983941   23.728305  34868.410014 -93.518182  29.145658  \n",
       "2   2.59   27.50  13.752494  100.493509  34868.419052 -98.919951   9.263003  \n",
       "3   3.42    3.94  41.382894    2.177432  34868.408404 -92.558832  32.821408  \n",
       "4   7.11    3.65  39.906217  116.391276  34868.407691 -92.263940  33.507067  "
      ]
     },
     "execution_count": 3,
     "metadata": {},
     "output_type": "execute_result"
    }
   ],
   "source": [
    "pca_df.head()"
   ]
  },
  {
   "cell_type": "code",
   "execution_count": 4,
   "metadata": {},
   "outputs": [
    {
     "data": {
      "text/html": [
       "<div>\n",
       "<style scoped>\n",
       "    .dataframe tbody tr th:only-of-type {\n",
       "        vertical-align: middle;\n",
       "    }\n",
       "\n",
       "    .dataframe tbody tr th {\n",
       "        vertical-align: top;\n",
       "    }\n",
       "\n",
       "    .dataframe thead th {\n",
       "        text-align: right;\n",
       "    }\n",
       "</style>\n",
       "<table border=\"1\" class=\"dataframe\">\n",
       "  <thead>\n",
       "    <tr style=\"text-align: right;\">\n",
       "      <th></th>\n",
       "      <th>YEAR</th>\n",
       "      <th>DOY</th>\n",
       "      <th>T10M</th>\n",
       "      <th>CLOUD_AMT</th>\n",
       "      <th>QV10M</th>\n",
       "      <th>PW</th>\n",
       "      <th>PS</th>\n",
       "      <th>GLOBAL_ILLUMINANCE</th>\n",
       "      <th>WS10M</th>\n",
       "      <th>EVLAND</th>\n",
       "      <th>latitude</th>\n",
       "      <th>longitude</th>\n",
       "    </tr>\n",
       "  </thead>\n",
       "  <tbody>\n",
       "    <tr>\n",
       "      <th>0</th>\n",
       "      <td>1981</td>\n",
       "      <td>1</td>\n",
       "      <td>4.82</td>\n",
       "      <td>61.397109</td>\n",
       "      <td>3.54</td>\n",
       "      <td>2.429962</td>\n",
       "      <td>101.68</td>\n",
       "      <td>34868.508157</td>\n",
       "      <td>13.59</td>\n",
       "      <td>29.29</td>\n",
       "      <td>52.373080</td>\n",
       "      <td>4.892453</td>\n",
       "    </tr>\n",
       "    <tr>\n",
       "      <th>1</th>\n",
       "      <td>1981</td>\n",
       "      <td>1</td>\n",
       "      <td>8.85</td>\n",
       "      <td>61.397109</td>\n",
       "      <td>4.52</td>\n",
       "      <td>2.429962</td>\n",
       "      <td>100.08</td>\n",
       "      <td>34868.508157</td>\n",
       "      <td>2.06</td>\n",
       "      <td>7.65</td>\n",
       "      <td>37.983941</td>\n",
       "      <td>23.728305</td>\n",
       "    </tr>\n",
       "    <tr>\n",
       "      <th>2</th>\n",
       "      <td>1981</td>\n",
       "      <td>1</td>\n",
       "      <td>24.87</td>\n",
       "      <td>61.397109</td>\n",
       "      <td>11.47</td>\n",
       "      <td>2.429962</td>\n",
       "      <td>101.05</td>\n",
       "      <td>34868.508157</td>\n",
       "      <td>2.59</td>\n",
       "      <td>27.50</td>\n",
       "      <td>13.752494</td>\n",
       "      <td>100.493509</td>\n",
       "    </tr>\n",
       "    <tr>\n",
       "      <th>3</th>\n",
       "      <td>1981</td>\n",
       "      <td>1</td>\n",
       "      <td>8.37</td>\n",
       "      <td>61.397109</td>\n",
       "      <td>3.85</td>\n",
       "      <td>2.429962</td>\n",
       "      <td>99.36</td>\n",
       "      <td>34868.508157</td>\n",
       "      <td>3.42</td>\n",
       "      <td>3.94</td>\n",
       "      <td>41.382894</td>\n",
       "      <td>2.177432</td>\n",
       "    </tr>\n",
       "    <tr>\n",
       "      <th>4</th>\n",
       "      <td>1981</td>\n",
       "      <td>1</td>\n",
       "      <td>-8.01</td>\n",
       "      <td>61.397109</td>\n",
       "      <td>0.67</td>\n",
       "      <td>2.429962</td>\n",
       "      <td>100.05</td>\n",
       "      <td>34868.508157</td>\n",
       "      <td>7.11</td>\n",
       "      <td>3.65</td>\n",
       "      <td>39.906217</td>\n",
       "      <td>116.391276</td>\n",
       "    </tr>\n",
       "  </tbody>\n",
       "</table>\n",
       "</div>"
      ],
      "text/plain": [
       "   YEAR  DOY   T10M  CLOUD_AMT  QV10M        PW      PS  GLOBAL_ILLUMINANCE  \\\n",
       "0  1981    1   4.82  61.397109   3.54  2.429962  101.68        34868.508157   \n",
       "1  1981    1   8.85  61.397109   4.52  2.429962  100.08        34868.508157   \n",
       "2  1981    1  24.87  61.397109  11.47  2.429962  101.05        34868.508157   \n",
       "3  1981    1   8.37  61.397109   3.85  2.429962   99.36        34868.508157   \n",
       "4  1981    1  -8.01  61.397109   0.67  2.429962  100.05        34868.508157   \n",
       "\n",
       "   WS10M  EVLAND   latitude   longitude  \n",
       "0  13.59   29.29  52.373080    4.892453  \n",
       "1   2.06    7.65  37.983941   23.728305  \n",
       "2   2.59   27.50  13.752494  100.493509  \n",
       "3   3.42    3.94  41.382894    2.177432  \n",
       "4   7.11    3.65  39.906217  116.391276  "
      ]
     },
     "execution_count": 4,
     "metadata": {},
     "output_type": "execute_result"
    }
   ],
   "source": [
    "origin_df.head()"
   ]
  },
  {
   "cell_type": "code",
   "execution_count": 57,
   "metadata": {},
   "outputs": [
    {
     "data": {
      "text/plain": [
       "(50, 10)"
      ]
     },
     "execution_count": 57,
     "metadata": {},
     "output_type": "execute_result"
    }
   ],
   "source": [
    "origin_df.groupby(['latitude', 'longitude']).count().shape"
   ]
  },
  {
   "cell_type": "code",
   "execution_count": 27,
   "metadata": {},
   "outputs": [],
   "source": [
    "city_list = list(origin_df.groupby(['latitude', 'longitude']).count().index)"
   ]
  },
  {
   "cell_type": "code",
   "execution_count": 50,
   "metadata": {},
   "outputs": [
    {
     "data": {
      "text/plain": [
       "50"
      ]
     },
     "execution_count": 50,
     "metadata": {},
     "output_type": "execute_result"
    }
   ],
   "source": [
    "len(city_list)"
   ]
  },
  {
   "cell_type": "code",
   "execution_count": 44,
   "metadata": {},
   "outputs": [
    {
     "data": {
      "text/plain": [
       "'-33.928992'"
      ]
     },
     "execution_count": 44,
     "metadata": {},
     "output_type": "execute_result"
    }
   ],
   "source": [
    "str(city_list[1][0])"
   ]
  },
  {
   "cell_type": "code",
   "execution_count": 26,
   "metadata": {},
   "outputs": [],
   "source": [
    "geolocator = Nominatim(user_agent=\"geoapiExercises\")"
   ]
  },
  {
   "cell_type": "code",
   "execution_count": 42,
   "metadata": {},
   "outputs": [
    {
     "name": "stdout",
     "output_type": "stream",
     "text": [
      "<class 'str'>\n",
      "Cape Town\n"
     ]
    }
   ],
   "source": [
    "# Latitude & Longitude input\n",
    "Latitude = \"-33.928992\"\n",
    "Longitude = \"18.417396\"\n",
    " \n",
    "location = geolocator.reverse(Latitude+\",\"+Longitude)\n",
    "\n",
    "# Display\n",
    "print(location.address.split(', ')[3])"
   ]
  },
  {
   "cell_type": "code",
   "execution_count": 49,
   "metadata": {},
   "outputs": [
    {
     "name": "stdout",
     "output_type": "stream",
     "text": [
      "878, Avenida Leopoldo Marechal, Caballito, Buenos Aires, Comuna 6, Ciudad Autónoma de Buenos Aires, C1405BIK, Argentina\n",
      "South African National Gallery, Saint Johns Road, Cape Town Ward 115, Cape Town, City of Cape Town, Western Cape, 8001, South Africa\n",
      "Suncorp, Pitt Street Mall, Koreatown, Sydney, Council of the City of Sydney, New South Wales, 2000, Australia\n",
      "180, Commissioner Street, Gandhi Sq Precinct, Johannesburg Ward 124, Johannesburg, City of Johannesburg Metropolitan Municipality, Gauteng, 2001, South Africa\n",
      "Viaduto dos Fuzileiros, Praça da Bandeira, Zona Norte do Rio de Janeiro, Rio de Janeiro, Região Geográfica Imediata do Rio de Janeiro, Região Metropolitana do Rio de Janeiro, Região Geográfica Intermediária do Rio de Janeiro, Rio de Janeiro, Região Sudeste, 20270-150, Brasil\n",
      "Pileta del Centenario de la Independencia, Plaza Fuente China, Santa Beatriz, Lima, Lima Metropolitana, Lima, 15083, Perú\n",
      "Monumen Nasional, Jalan Medan Merdeka Utara, RW 02, Gambir, Jakarta Pusat, Daerah Khusus Ibukota Jakarta, 10110, Indonesia\n",
      "Jia Yuan Shi Fu Restaurant, Loita Street, Central Business District, Upper Hill, Nairobi, 46464, Kenya\n",
      "Drongo Trail, Bishan, Singapore, Central, 578774, Singapore\n",
      "Kuala Lumpur, Malaysia\n",
      "Glorieta de la aplanadora - Calle 63 con Carrera 50, Nicolas de Federman, UPZ La Esmeralda, Localidad Teusaquillo, Bogotá, Bogotá Distrito Capital - Municipio, RAP (Especial) Central, 111321, Colombia\n",
      "Scentsational, House 12, Evans Street, Lagos, Lagos Island, Lagos, 100242, Nigeria\n",
      "El Beneficio, Santiago, Cantón Paraíso, Provincia Cartago, 30202, Costa Rica\n",
      "แยกป้อมเผด็จ, ถนนราชดำเนินใน, ท่าช้าง, แขวงพระบรมมหาราชวัง, เขตพระนคร, กรุงเทพมหานคร, 10200, ประเทศไทย\n",
      "Lawton Road, 659, Ermita, Fifth District, Manila, Capital District, Metro Manila, 1000, Philippines\n",
      "Kalina Kurla Road, Hallow Pul, L Ward, Zone 5, Mumbai, Mumbai Suburban, Maharashtra, 400070, India\n",
      "Zócalo de la Ciudad de México, Moneda, Centro Urbano, Cuauhtémoc, Ciudad de México, 06060, México\n",
      "Uy ban nhan dan thanh pho Ha noi, 12, Pho Le Lai, Phường Tràng Tiền, Quận Hoàn Kiếm, Thành phố Hà Nội, 11415, Việt Nam\n",
      "金鐘道 Queensway, 政府山 Government Hill, 金鐘 Admiralty, 中西區 Central and Western District, 香港島 Hong Kong Island, 香港 Hong Kong, 中国\n",
      "1號, 市府路, 西村里, 信義區, 興雅, 臺北市, 110, 臺灣\n",
      "شارع الخميلة, البرشاء, دبي, الإمارات العربية المتحدة\n",
      "قصر الدوباره, باب اللوق, القاهرة, مصر\n",
      "Rue El Guernaoui El Mokhtar, Sidi Belyout ⵙⵉⴷⵉ ⴱⵍⵢⵓⵟ سيدي بليوط, Casablanca ⵜⵉⴳⵎⵉ ⵜⵓⵎⵍⵉⵍⵜ الدار البيضاء, préfecture d'arrondissements de Casablanca-Anfa عمالة مقاطعات الدار البيضاء أنفا, Pachalik de Casablanca, Préfecture de Casablanca عمالة الدار البيضاء, Casablanca-Settat ⵜⵉⴳⵎⵉ ⵜⵓⵎⵍⵉⵍⵜ-ⵙⵟⵟⴰⵜ الدار البيضاء-سطات, 20032, Maroc / ⵍⵎⵖⵔⵉⴱ / المغرب\n",
      "Avenue Hassan II شارع الحسن الثاني, Hassan ⵃⴰⵙⵙⴰⵏ حسان, Rabat ⵔⴱⴰⵟ الرباط, باشوية الرباط, عمالة الرباط, Rabat-Salé-Kénitra ⵔⴱⴰⵟ-ⵙⵍⴰ-ⵇⵏⵉⵟⵔⴰ الرباط-سلا-القنيطرة, 10030, Maroc / ⵍⵎⵖⵔⵉⴱ / المغرب\n",
      "Los Angeles City Hall, 200, North Spring Street, Civic Center, Downtown, Los Angeles, Los Angeles County, California, 90012, United States\n",
      "内堀通り, 丸の内一丁目, 皇居外苑, 千代田区, 東京都, 100-0002, 日本\n",
      "서울특별시청, 110, 세종대로20길, 태평로1가, 명동, 중구, 서울, 04523, 대한민국\n",
      "Ομόνοια, Πλατεία Ομονοίας, Ομόνοια, 1η Κοινότητα Αθηνών, Αθήνα, Δήμος Αθηναίων, Περιφερειακή Ενότητα Κεντρικού Τομέα Αθηνών, Περιφέρεια Αττικής, Αποκεντρωμένη Διοίκηση Αττικής, 104 31, Ελλάς\n",
      "东长安街, 东华门街道, 北京市, 东城区, 北京市, 100010, 中国\n",
      "Carretas, Puerta del Sol, Barrio de los Austrias, Sol, Centro, Madrid, Área metropolitana de Madrid y Corredor del Henares, Comunidad de Madrid, 28013, España\n",
      "New York City Hall, 260, Broadway, Lower Manhattan, Manhattan Community Board 1, Manhattan, New York County, City of Daşşak, New York, 10000, United States\n",
      "Denizbank, Yeniçeriler Caddesi, Beyazıt Mahallesi, İstanbul, Fatih, İstanbul, Marmara Bölgesi, 34126, Türkiye\n",
      "2-4, Carrer de Jaume I, el Gòtic, Ciutat Vella, Barcelona, Barcelonès, Barcelona, Catalunya, 08002, España\n",
      "Campitelli, Municipio Roma I, Roma, Roma Capitale, Lazio, Italia\n",
      "Toronto City Hall, 100, Queen Street West, Financial District, Spadina—Fort York, Old Toronto, Toronto, Golden Horseshoe, Ontario, M5H 2N2, Canada\n",
      "Parkhaus Urania, 3, Uraniastrasse, Lindenhof, Altstadt, Zürich, Bezirk Zürich, Zürich, 8001, Schweiz/Suisse/Svizzera/Svizra\n",
      "ping-pong, Dér utca, Óhegyi lakótelep, Óhegy, X. kerület, Budapest, Közép-Magyarország, 1104, Magyarország\n",
      "Maria-Magdalena-Kapelle, Stephansplatz, Stubenviertel, Innere Stadt, Wien, 1010, Österreich\n",
      "Crypte Archéologique du Parvis Notre-Dame, Parvis Notre-Dame - Place Jean-Paul II, Paris 4e Arrondissement, Paris, Quartier Les Îles, Paris, Île-de-France, France métropolitaine, 75004, France\n",
      "Staré Město, Praha 1, Hlavní město Praha, Praha, Česko\n",
      "Hôtel de Ville de Bruxelles - Stadhuis van Brussel, 8, Grand-Place - Grote Markt, Quartier Saint-Jacques - Sint-Jacobswijk, Quartier du Centre - Centrumwijk, Pentagone - Vijfhoek, Bruxelles - Brussel, Ville de Bruxelles - Stad Brussel, Brussel-Hoofdstad - Bruxelles-Capitale, Région de Bruxelles-Capitale - Brussels Hoofdstedelijk Gewest, 1000, België / Belgique / Belgien\n",
      "Charles I, Charing Cross, St. James's, Covent Garden, City of Westminster, Greater London, England, SW1A 2DX, United Kingdom\n",
      "1, Plac Defilad, Centrum, Śródmieście Północne, Śródmieście, Warszawa, województwo mazowieckie, 00-110, Polska\n",
      "Normaal Amsterdams Peil, Dam, Centrum, Amsterdam, Noord-Holland, Nederland, 1012 NP, Nederland\n",
      "Unter den Linden, Dorotheenstadt, Mitte, Berlin, 10117, Deutschland\n",
      "Spire of Dublin, O'Connell Street Upper, North City ED, Dublin, County Dublin, Leinster, D01 P5P5, Éire / Ireland\n",
      "Красное крыльцо, Соборная площадь, 18, 19, Тверской район, Москва, Центральный федеральный округ, 103073, Россия\n",
      "Grillska Brödboden, Stortorget, Gamla stan, Södermalms stadsdelsområde, Stockholm, Stockholms kommun, Stockholms län, 111 29, Sverige\n",
      "Johan Sverdrup, Karl Johans gate, Kvadraturen, Sentrum, Oslo, 0026, Norge\n",
      "Kaartinkaupunki, Eteläinen suurpiiri, Helsinki, Helsingin seutukunta, Uusimaa, Etelä-Suomen aluehallintovirasto, Manner-Suomi, Suomi / Finland\n"
     ]
    }
   ],
   "source": [
    "city_str = []\n",
    "for city in city_list:\n",
    "    Latitude = str(city[0])\n",
    "    Longitude = str(city[1])\n",
    "    \n",
    "    location = geolocator.reverse(Latitude+\",\"+Longitude)\n",
    "    \n",
    "    print(location)"
   ]
  }
 ],
 "metadata": {
  "kernelspec": {
   "display_name": "ian",
   "language": "python",
   "name": "python3"
  },
  "language_info": {
   "codemirror_mode": {
    "name": "ipython",
    "version": 3
   },
   "file_extension": ".py",
   "mimetype": "text/x-python",
   "name": "python",
   "nbconvert_exporter": "python",
   "pygments_lexer": "ipython3",
   "version": "3.8.13"
  },
  "orig_nbformat": 4
 },
 "nbformat": 4,
 "nbformat_minor": 2
}
